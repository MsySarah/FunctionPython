{
  "nbformat": 4,
  "nbformat_minor": 0,
  "metadata": {
    "colab": {
      "provenance": []
    },
    "kernelspec": {
      "name": "python3",
      "display_name": "Python 3"
    },
    "language_info": {
      "name": "python"
    }
  },
  "cells": [
    {
      "cell_type": "code",
      "execution_count": 5,
      "metadata": {
        "id": "5nFHB-s9BnFK"
      },
      "outputs": [],
      "source": [
        "def nama_fungsi():\n",
        "  print (\"Hello ini fungsi\")"
      ]
    },
    {
      "cell_type": "code",
      "source": [
        "#Membuat Fungsi\n",
        "def salam():\n",
        "  print (\"Hello, Selamat Pagi\")\n",
        "\n",
        "#Pemanggilan Fungsi\n",
        "salam()"
      ],
      "metadata": {
        "colab": {
          "base_uri": "https://localhost:8080/"
        },
        "id": "XjjSaSikBvdp",
        "outputId": "6dba97e2-cd11-4b70-bc4f-a3da8c7910cc"
      },
      "execution_count": 3,
      "outputs": [
        {
          "output_type": "stream",
          "name": "stdout",
          "text": [
            "Hello, Selamat Pagi\n"
          ]
        }
      ]
    },
    {
      "cell_type": "code",
      "source": [
        "#Membuat Fungsi\n",
        "def salam():\n",
        "  print(\"Hello, Selamat Pagi\")\n",
        "\n",
        "#Pemanggilan Fungsi\n",
        "salam()\n",
        "salam()\n",
        "salam()"
      ],
      "metadata": {
        "colab": {
          "base_uri": "https://localhost:8080/"
        },
        "id": "kEuGbF2pCEOH",
        "outputId": "02e6d621-8641-4a27-c26c-bddfdbc29ad5"
      },
      "execution_count": 6,
      "outputs": [
        {
          "output_type": "stream",
          "name": "stdout",
          "text": [
            "Hello, Selamat Pagi\n",
            "Hello, Selamat Pagi\n",
            "Hello, Selamat Pagi\n"
          ]
        }
      ]
    },
    {
      "cell_type": "code",
      "source": [
        "#Membuat fungsi dengan parameter\n",
        "def luas_segitiga(alas, tinggi):\n",
        "  luas = (alas*tinggi)/2\n",
        "  print(\"Luas segitiga:%f\"%luas)\n",
        "\n",
        "#Pemanggilan fungsi\n",
        "luas_segitiga(4,6)"
      ],
      "metadata": {
        "colab": {
          "base_uri": "https://localhost:8080/"
        },
        "id": "hkMcKpDZCg2b",
        "outputId": "4c765023-d998-429c-bdc9-a7502562b7c1"
      },
      "execution_count": 9,
      "outputs": [
        {
          "output_type": "stream",
          "name": "stdout",
          "text": [
            "Luas segitiga:12.000000\n"
          ]
        }
      ]
    },
    {
      "cell_type": "code",
      "source": [
        "def luas_persegi(sisi):\n",
        "  luas=sisi*sisi\n",
        "  return luas\n",
        "\n",
        "#pemanggilan fungsi\n",
        "print (\"Luas persegi :%d\" %luas_persegi(6))"
      ],
      "metadata": {
        "colab": {
          "base_uri": "https://localhost:8080/"
        },
        "id": "IXWELwOlDIA7",
        "outputId": "fd2c8722-a640-426b-f44c-d8abaa4feced"
      },
      "execution_count": 10,
      "outputs": [
        {
          "output_type": "stream",
          "name": "stdout",
          "text": [
            "Luas persegi :36\n"
          ]
        }
      ]
    },
    {
      "cell_type": "code",
      "source": [
        "#rumus:sisixsisi\n",
        "def luas_persegi(sisi):\n",
        "  luas=sisi*sisi\n",
        "  return luas\n",
        "\n",
        "#rumus: sisi x sisi x sisi\n",
        "def volume_persegi(sisi):\n",
        "  volume=luas_persegi(sisi)*isi"
      ],
      "metadata": {
        "id": "SxnLjlNBDXQM"
      },
      "execution_count": 13,
      "outputs": []
    },
    {
      "cell_type": "code",
      "source": [
        "#Membuat variabel global\n",
        "nama = \"Masayu Sarah Amelia\"\n",
        "versi =\"1.0.0\"\n",
        "\n",
        "def help():\n",
        "  #ini variabel lokal\n",
        "  nama =\"Programku\"\n",
        "  versi =\"1.0.2\"\n",
        "  #Mengakses variabel lokal\n",
        "  print(\"Nama:%s\"%nama)\n",
        "  print(\"Versi:%s\"%versi)\n",
        "\n",
        "#Mengakses variabel lokal\n",
        "print (\"Nama:%s\"%nama)\n",
        "print(\"Versi:%s\"%versi)\n",
        "\n",
        "#Memanggil fungsi help()\n",
        "help()"
      ],
      "metadata": {
        "colab": {
          "base_uri": "https://localhost:8080/"
        },
        "id": "seXULFbADtgz",
        "outputId": "c439942f-227e-4607-abae-679961554031"
      },
      "execution_count": 14,
      "outputs": [
        {
          "output_type": "stream",
          "name": "stdout",
          "text": [
            "Nama:Masayu Sarah Amelia\n",
            "Versi:1.0.0\n",
            "Nama:Programku\n",
            "Versi:1.0.2\n"
          ]
        }
      ]
    },
    {
      "cell_type": "code",
      "source": [
        "# Variabel global untuk menyimpan data Buku\n",
        "buku = []\n",
        "\n",
        "# fungsi untuk menampilkan semua data\n",
        "def show_data():\n",
        "    if len(buku) <= 0:\n",
        "        print(\"BELUM ADA DATA\")\n",
        "    else:\n",
        "        for indeks in range(len(buku)):\n",
        "            print(\"[%d] %s\" % (indeks, buku[indeks]))\n",
        "\n",
        "# fungsi untuk menambah data\n",
        "def insert_data():\n",
        "    buku_baru = input(\"Judul Buku: \")  # gunakan input() di Python 3\n",
        "    buku.append(buku_baru)\n",
        "\n",
        "# fungsi untuk edit data\n",
        "def edit_data():\n",
        "    show_data()\n",
        "    try:\n",
        "        indeks = int(input(\"Inputkan ID buku: \"))  # pastikan input dikonversi ke integer\n",
        "        if indeks >= len(buku):\n",
        "            print(\"ID salah\")\n",
        "        else:\n",
        "            judul_baru = input(\"Judul baru: \")  # gunakan input() di Python 3\n",
        "            buku[indeks] = judul_baru\n",
        "    except ValueError:\n",
        "        print(\"Input tidak valid! Masukkan angka yang benar.\")\n",
        "\n",
        "# fungsi untuk menghapus data\n",
        "def delete_data():\n",
        "    show_data()\n",
        "    try:\n",
        "        indeks = int(input(\"Inputkan ID buku: \"))  # pastikan input dikonversi ke integer\n",
        "        if indeks >= len(buku):\n",
        "            print(\"ID salah\")\n",
        "        else:\n",
        "            buku.pop(indeks)  # gunakan pop() alih-alih remove untuk menghapus berdasarkan indeks\n",
        "    except ValueError:\n",
        "        print(\"Input tidak valid! Masukkan angka yang benar.\")\n",
        "\n",
        "# fungsi untuk menampilkan menu\n",
        "def show_menu():\n",
        "    print(\"\\n\")\n",
        "    print(\"----------- MENU ----------\")\n",
        "    print(\"[1] Show Data\")\n",
        "    print(\"[2] Insert Data\")\n",
        "    print(\"[3] Edit Data\")\n",
        "    print(\"[4] Delete Data\")\n",
        "    print(\"[5] Exit\")\n",
        "\n",
        "    try:\n",
        "        menu = int(input(\"PILIH MENU> \"))  # pastikan input dikonversi ke integer\n",
        "        print(\"\\n\")\n",
        "\n",
        "        if menu == 1:\n",
        "            show_data()\n",
        "        elif menu == 2:\n",
        "            insert_data()\n",
        "        elif menu == 3:\n",
        "            edit_data()\n",
        "        elif menu == 4:\n",
        "            delete_data()\n",
        "        elif menu == 5:\n",
        "            exit()\n",
        "        else:\n",
        "            print(\"Salah pilih!\")\n",
        "    except ValueError:\n",
        "        print(\"Input tidak valid! Masukkan angka.\")\n",
        "\n",
        "if __name__ == \"__main__\":\n",
        "    while True:\n",
        "        show_menu()\n"
      ],
      "metadata": {
        "colab": {
          "base_uri": "https://localhost:8080/"
        },
        "id": "ltyOM0o2Eiyn",
        "outputId": "e1587edf-59d2-4f6b-b384-f6ed34d84c46"
      },
      "execution_count": null,
      "outputs": [
        {
          "output_type": "stream",
          "name": "stdout",
          "text": [
            "\n",
            "\n",
            "----------- MENU ----------\n",
            "[1] Show Data\n",
            "[2] Insert Data\n",
            "[3] Edit Data\n",
            "[4] Delete Data\n",
            "[5] Exit\n",
            "PILIH MENU> 1\n",
            "\n",
            "\n",
            "BELUM ADA DATA\n",
            "\n",
            "\n",
            "----------- MENU ----------\n",
            "[1] Show Data\n",
            "[2] Insert Data\n",
            "[3] Edit Data\n",
            "[4] Delete Data\n",
            "[5] Exit\n",
            "PILIH MENU> 2\n",
            "\n",
            "\n",
            "Judul Buku: How to win people and Influence\n",
            "\n",
            "\n",
            "----------- MENU ----------\n",
            "[1] Show Data\n",
            "[2] Insert Data\n",
            "[3] Edit Data\n",
            "[4] Delete Data\n",
            "[5] Exit\n",
            "PILIH MENU> 1\n",
            "\n",
            "\n",
            "[0] How to win people and Influence\n",
            "\n",
            "\n",
            "----------- MENU ----------\n",
            "[1] Show Data\n",
            "[2] Insert Data\n",
            "[3] Edit Data\n",
            "[4] Delete Data\n",
            "[5] Exit\n"
          ]
        }
      ]
    }
  ]
}